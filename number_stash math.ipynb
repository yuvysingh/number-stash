{
 "cells": [
  {
   "cell_type": "code",
   "execution_count": 1,
   "id": "3ce8166d",
   "metadata": {},
   "outputs": [],
   "source": [
    "events = [[5,0,0],[5,1,0],[5,2,0],[4,3,1],[3,3,2],[2,3,3],[1,3,4],[0,3,5]]"
   ]
  },
  {
   "cell_type": "code",
   "execution_count": 2,
   "id": "9d4b5b5c",
   "metadata": {},
   "outputs": [],
   "source": [
    "combs = [1,5,15,15,10,6,3,1]"
   ]
  },
  {
   "cell_type": "code",
   "execution_count": 67,
   "id": "81dd45b9",
   "metadata": {},
   "outputs": [],
   "source": []
  },
  {
   "cell_type": "code",
   "execution_count": 68,
   "id": "4bd75be7",
   "metadata": {},
   "outputs": [],
   "source": []
  },
  {
   "cell_type": "code",
   "execution_count": 69,
   "id": "51bdb2c3",
   "metadata": {},
   "outputs": [],
   "source": [
    "import math"
   ]
  },
  {
   "cell_type": "code",
   "execution_count": 70,
   "id": "91b4e8c1",
   "metadata": {},
   "outputs": [
    {
     "name": "stdout",
     "output_type": "stream",
     "text": [
      "71.02919775000002\n"
     ]
    }
   ],
   "source": [
    "print(total)"
   ]
  },
  {
   "cell_type": "code",
   "execution_count": 94,
   "id": "9121dc22",
   "metadata": {},
   "outputs": [],
   "source": [
    "def expected_outcome(k):\n",
    "    average_f = 10.5\n",
    "    average_a = 10 + k/2\n",
    "    prob_a = 1.05-(k/20)\n",
    "    prob_d = (k/20)-0.05\n",
    "    total = 0\n",
    "    for i in range(8):\n",
    "        average_outcome = (events[i][0] * average_a) + (events[i][2] * 10.5)\n",
    "        probability = ((prob_a)**(events[i][0])) * ((prob_d)**(events[i][1]))\n",
    "        total += average_outcome * probability * combs[i]\n",
    "\n",
    "    return total"
   ]
  },
  {
   "cell_type": "code",
   "execution_count": 77,
   "id": "5e97342c",
   "metadata": {
    "scrolled": true
   },
   "outputs": [
    {
     "name": "stdout",
     "output_type": "stream",
     "text": [
      "1:52.5\n",
      "2:54.99612436914065\n",
      "3:57.445198500000004\n",
      "4:59.755392181640666\n",
      "5:61.81993600000003\n",
      "6:63.542633056640625\n",
      "7:64.85279850000002\n",
      "8:65.71194999414064\n",
      "9:66.11433600000005\n",
      "10:66.08315249414065\n",
      "11:65.6640625\n",
      "12:64.91739655664063\n",
      "13:63.91017599999999\n",
      "14:62.708864681640634\n",
      "15:61.3735185\n",
      "16:59.953765869140625\n",
      "17:58.486816000000005\n",
      "18:56.997455619140624\n",
      "19:55.4997585\n",
      "20:53.999995931640626\n"
     ]
    }
   ],
   "source": [
    "for k in range(1,21):\n",
    "    print(f\"{k}:{expected_outcome(k)}\")"
   ]
  },
  {
   "cell_type": "code",
   "execution_count": 88,
   "id": "84d46645",
   "metadata": {},
   "outputs": [
    {
     "name": "stdout",
     "output_type": "stream",
     "text": [
      "1:52.47436\n",
      "2:54.94744\n",
      "3:57.38848\n",
      "4:59.74843\n",
      "5:61.86631\n",
      "6:63.55907\n",
      "7:64.85768\n",
      "8:65.74821\n",
      "9:66.1572\n",
      "10:66.09279\n",
      "11:65.6063\n",
      "12:64.91219\n",
      "13:63.99461\n",
      "14:62.80299\n",
      "15:61.30367\n",
      "16:59.92586\n",
      "17:58.47886\n",
      "18:57.02767\n",
      "19:55.48411\n",
      "20:54.01359\n"
     ]
    }
   ],
   "source": [
    "import random\n",
    "\n",
    "simulations = 100000\n",
    "def simulation(k):\n",
    "    simulation_n = 1\n",
    "    total = 0\n",
    "    \n",
    "    while simulation_n <= simulations:\n",
    "        nums = [random.randint(1,20) for i in range(8)]\n",
    "        n=0\n",
    "        s= 0\n",
    "        i = 0\n",
    "        while s < 5 and n < 3:\n",
    "            if nums[i] >= k:\n",
    "                s += 1\n",
    "                total += nums[i]\n",
    "                i+=1\n",
    "            else:\n",
    "                n += 1\n",
    "                i+=1\n",
    "\n",
    "        if n == 3:\n",
    "            total += sum(nums[i:])\n",
    "\n",
    "        simulation_n += 1\n",
    "\n",
    "    return total/simulations\n",
    "            \n",
    "    \n",
    "        \n",
    "for k in range(1,21):\n",
    "    print(f\"{k}:{simulation(k)}\")\n",
    "    \n",
    "\n",
    "\n",
    "\n"
   ]
  },
  {
   "cell_type": "code",
   "execution_count": 93,
   "id": "d1eb9fee",
   "metadata": {},
   "outputs": [],
   "source": []
  },
  {
   "cell_type": "code",
   "execution_count": 97,
   "id": "3efb48b1",
   "metadata": {},
   "outputs": [
    {
     "ename": "ValueError",
     "evalue": "math domain error",
     "output_type": "error",
     "traceback": [
      "\u001b[1;31m---------------------------------------------------------------------------\u001b[0m",
      "\u001b[1;31mValueError\u001b[0m                                Traceback (most recent call last)",
      "\u001b[1;32m~\\AppData\\Local\\Temp\\ipykernel_23232\\1621844130.py\u001b[0m in \u001b[0;36m<module>\u001b[1;34m\u001b[0m\n\u001b[0;32m      1\u001b[0m \u001b[1;32mfor\u001b[0m \u001b[0mk\u001b[0m \u001b[1;32min\u001b[0m \u001b[0mrange\u001b[0m\u001b[1;33m(\u001b[0m\u001b[1;36m1\u001b[0m\u001b[1;33m,\u001b[0m\u001b[1;36m21\u001b[0m\u001b[1;33m)\u001b[0m\u001b[1;33m:\u001b[0m\u001b[1;33m\u001b[0m\u001b[1;33m\u001b[0m\u001b[0m\n\u001b[1;32m----> 2\u001b[1;33m     \u001b[0mprint\u001b[0m\u001b[1;33m(\u001b[0m\u001b[1;34mf\"{k}:{math.sqrt(expected_outcome_squared(k)-(expected_outcome(k))**2)}\"\u001b[0m\u001b[1;33m)\u001b[0m\u001b[1;33m\u001b[0m\u001b[1;33m\u001b[0m\u001b[0m\n\u001b[0m",
      "\u001b[1;31mValueError\u001b[0m: math domain error"
     ]
    }
   ],
   "source": []
  },
  {
   "cell_type": "code",
   "execution_count": null,
   "id": "ab28e767",
   "metadata": {},
   "outputs": [],
   "source": []
  }
 ],
 "metadata": {
  "kernelspec": {
   "display_name": "Python 3 (ipykernel)",
   "language": "python",
   "name": "python3"
  },
  "language_info": {
   "codemirror_mode": {
    "name": "ipython",
    "version": 3
   },
   "file_extension": ".py",
   "mimetype": "text/x-python",
   "name": "python",
   "nbconvert_exporter": "python",
   "pygments_lexer": "ipython3",
   "version": "3.9.13"
  }
 },
 "nbformat": 4,
 "nbformat_minor": 5
}
